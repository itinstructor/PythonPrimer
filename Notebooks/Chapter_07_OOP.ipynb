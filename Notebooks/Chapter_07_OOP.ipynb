{
  "cells": [
    {
      "cell_type": "markdown",
      "metadata": {
        "id": "view-in-github",
        "colab_type": "text"
      },
      "source": [
        "<a href=\"https://colab.research.google.com/github/itinstructor/PythonPrimer/blob/main/Notebooks/Chapter_07_OOP.ipynb\" target=\"_parent\"><img src=\"https://colab.research.google.com/assets/colab-badge.svg\" alt=\"Open In Colab\"/></a>"
      ]
    },
    {
      "cell_type": "markdown",
      "source": [
        "# Chapter 7 OOP with Python"
      ],
      "metadata": {
        "id": "zRBDLoMk2hmc"
      },
      "id": "zRBDLoMk2hmc"
    },
    {
      "cell_type": "markdown",
      "source": [
        "# Python is Object-Oriented (OOP)\n",
        "\n",
        "In all the programs we have written until now, we have designed our\n",
        "program around functions: blocks of statements which manipulate data.\n",
        "This is called the procedure-oriented way of programming.\n",
        "\n",
        "There is another way of organizing your program which is to combine data\n",
        "and functionality and wrap it inside something called an object. This is\n",
        "called the object-oriented programming paradigm. Most of the time you\n",
        "can use procedural or functional programming. When you are writing large\n",
        "programs or have a problem that is better suited to this method, you can\n",
        "use object-oriented programming techniques.\n",
        "\n",
        "Python is an object-oriented programming language. Everything in Python\n",
        "is an object. We have been using many object-oriented concepts already.\n",
        "Object-oriented programming (OOP) focuses on creating reusable patterns\n",
        "of code, in contrast to procedural programming, which focuses on\n",
        "explicit sequenced instructions. When working on complex programs in\n",
        "particular, object-oriented programming lets you reuse code and write\n",
        "code that is more readable, which in turn makes it more maintainable.\n",
        "\n",
        "The key notion is that of an object. An object consists of two things:\n",
        "data (fields) and functions (called methods) that work with that data.\n",
        "\n",
        "As an example, strings in Python are objects. The data of the string\n",
        "object is the actual characters that make up that string. The methods\n",
        "are things like lower, replace, and split. To Python, everything is an\n",
        "object. That includes not only strings and lists, but also integers,\n",
        "floats, and even functions themselves."
      ],
      "metadata": {
        "id": "m2VArIdr2fPw"
      },
      "id": "m2VArIdr2fPw"
    },
    {
      "cell_type": "markdown",
      "source": [
        "\n",
        "## A Class Definition is a Blueprint for Objects\n",
        "\n",
        "A class definition is a blueprint (set of plans) from which many\n",
        "individual objects can be constructed, created, produced, instantiated,\n",
        "or whatever verb you prefer to use for building something from a set of\n",
        "plans.\n",
        "\n",
        "An object is a programming construct that encapsulates data and the\n",
        "ability to manipulate that data in a single software entity. The\n",
        "blueprint describes the data contained within and the behavior of\n",
        "objects instantiated according to the class definition.\n",
        "\n",
        "An object's data is contained in variables defined within the class\n",
        "(often called member variables, instance variables, data members,\n",
        "attributes, fields, properties, etc.). The terminology used often\n",
        "depends on the background of the person writing the document.\n",
        "\n",
        "Unlike Java and C++, once a Python object is instantiated, it can be\n",
        "modified in ways that no longer follow the blueprint of the class\n",
        "through the addition of new data members.\n",
        "\n",
        "An object's behavior is controlled by methods defined within the class.\n",
        "In Python, methods are functions that are defined within a class\n",
        "definition.\n",
        "\n",
        "An object is said to have state and behavior. At any instant in time,\n",
        "the state of an object is determined by the values stored in its\n",
        "variables and its behavior is determined by its methods."
      ],
      "metadata": {
        "id": "ORvtct8z2tmS"
      },
      "id": "ORvtct8z2tmS"
    },
    {
      "cell_type": "markdown",
      "source": [
        "## What is an Object-Oriented Program?\n",
        "\n",
        "An Object-Oriented Program consists of a group of cooperating objects,\n",
        "exchanging messages, for the purpose of achieving a common objective."
      ],
      "metadata": {
        "id": "CIfGsvUN29K1"
      },
      "id": "CIfGsvUN29K1"
    },
    {
      "cell_type": "markdown",
      "source": [
        "### What is an Object?\n",
        "\n",
        "An object is a software construct that encapsulates data, along with the\n",
        "ability to use or modify that data."
      ],
      "metadata": {
        "id": "d_OOJzSj3L3A"
      },
      "id": "d_OOJzSj3L3A"
    },
    {
      "cell_type": "markdown",
      "source": [
        "### What is Encapsulation?\n",
        "\n",
        "Encapsulation refers to the bundling of data with the methods that\n",
        "operate on that data, or the restricting of direct access to some of an\n",
        "object's components. Encapsulation is used to hide the values or state\n",
        "of a structured data object inside a class, preventing direct access to\n",
        "them by clients in a way that could expose hidden implementation details\n",
        "or violate state invariance maintained by the methods.\n"
      ],
      "metadata": {
        "id": "ivF-8okV3Ima"
      },
      "id": "ivF-8okV3Ima"
    },
    {
      "cell_type": "markdown",
      "source": [
        "### What is Data Hiding?\n",
        "\n",
        "Data hiding is a software development technique specifically used in\n",
        "object-oriented programming (OOP) to hide internal object details (data\n",
        "members). Data hiding ensures exclusive data access to class members and\n",
        "protects object integrity by preventing unintended or intended changes.\n"
      ],
      "metadata": {
        "id": "sti7mkWa3CVe"
      },
      "id": "sti7mkWa3CVe"
    },
    {
      "cell_type": "markdown",
      "source": [
        "---\n",
        "- **Attributes:** What the car is.\n",
        "- **Methods:** What the car does.\n",
        "\n",
        "<img src=https://raw.githubusercontent.com/itinstructor/PythonPrimer/main/Notebooks/chapter_07_images/image2.png alt=\"Object-Oriented Programming (OOP)\" />\n",
        "\n",
        "**Encapsulation:** Everything needed is contained in the class. A class should do one thing and do it well.\n",
        "**Data Hiding:** Outside program do not have access to private internal attributes and methods. Access is only allowed through public methods.\n",
        "\n",
        "<img src=https://raw.githubusercontent.com/itinstructor/PythonPrimer/main/Notebooks/chapter_07_images/image1.png alt=\"What is encapsulation in Python with example?\" />"
      ],
      "metadata": {
        "id": "_vfGmOW14ZVK"
      },
      "id": "_vfGmOW14ZVK"
    },
    {
      "cell_type": "markdown",
      "source": [
        "## Classes and Objects\n",
        "\n",
        "One of the most important concepts in object-oriented programming is the\n",
        "distinction between classes and objects, which are defined as follows:\n",
        "\n",
        "1.  **Class** — A blueprint created by a programmer for an object. This\n",
        "    defines a set of attributes that will characterize any object that\n",
        "    is instantiated from this class.\n",
        "\n",
        "2.  **Object** — An instance of a class. A class is used to create an\n",
        "    object in a program.\n",
        "\n",
        "These are used to create patterns (in the case of classes) and then make\n",
        "use of the patterns (in the case of objects).\n",
        "\n",
        "Objects can store data using ordinary variables that belong to the\n",
        "object. Variables that belong to an object or class are referred to as\n",
        "**fields**. Objects can also have functionality by using functions that\n",
        "**belong** to a class. Such functions are called **methods** of the\n",
        "class. This terminology is important because it helps us to\n",
        "differentiate between functions and variables which are independent and\n",
        "those which belong to a class or object. Collectively, the fields and\n",
        "methods can be referred to as the attributes of that class.\n",
        "\n",
        "Fields are of two types - they can belong to each instance/object of the\n",
        "class or they can belong to the class itself. They are called instance\n",
        "variables and class variables respectively.\n",
        "\n",
        "A class is created using the **class** keyword. The fields and methods\n",
        "of the class are listed in an indented block."
      ],
      "metadata": {
        "id": "xjND_qfz5FuR"
      },
      "id": "xjND_qfz5FuR"
    },
    {
      "cell_type": "markdown",
      "source": [
        "## The self Parameter\n",
        "\n",
        "Class methods have only one specific difference from ordinary functions:\n",
        "they must have an extra first name that has to be added to the beginning\n",
        "of the parameter list. This variable refers to the object itself, and by\n",
        "convention, it is given the name **self**.\n",
        "\n",
        "The **self** parameter tells Python which object to operate on. **self**\n",
        "references the functions and class variables of that object.\n",
        "\n",
        "In a sense, everything defined in an object belongs to it**self**."
      ],
      "metadata": {
        "id": "eQfiLBut5PTV"
      },
      "id": "eQfiLBut5PTV"
    },
    {
      "cell_type": "markdown",
      "source": [
        "# Python Classes and Objects\n",
        "At a basic level, an object is simply some code plus data structures that are smaller than a whole program. Defining a method allows us to store a bit of code and give it a name and then later invoke that code using the name of the function.\n",
        "\n",
        "An object can contain many methods as well as data that is manipulated by those methods. We call data items that are part of the object attributes.\n",
        "\n",
        "We use the **class** keyword to define the data and code that will make up each of the objects. The **class** keyword includes the name of the class and begins an indented block of code where we include the attributes (**data**) and methods (**code**).\n",
        "\n",
        "**Data Hiding:** The _ (underscore) in front of the attribute name is to hide the data from anything outside the class or program. This would be considered private in other languages.\n",
        "\n",
        "In Python, this is not enforced as in other languages, but is only a convention. Only the class and its methods are supposed to access and change the data directly.\n",
        "\n",
        "The class is like a cookie cutter and the objects created using the class are the cookies. You don’t put frosting on the cookie cutter; you put frosting on the cookies, and you can put different frosting on each cookie.\n",
        "\n",
        "The following image shows a Car class and three car objects.\n",
        "\n",
        "<img src = https://raw.githubusercontent.com/itinstructor/PythonPrimer/main/Notebooks/chapter_07_images/car_class.png alt=\"A Car class and three car objects\" width = \"400\" />\n"
      ],
      "metadata": {
        "id": "J_pV3C5o5bAV"
      },
      "id": "J_pV3C5o5bAV"
    },
    {
      "cell_type": "markdown",
      "source": [
        "## Create Class and Object\n",
        "\n",
        "The simplest class possible is shown in the following example."
      ],
      "metadata": {
        "id": "EwXGdA4nAZ4N"
      },
      "id": "EwXGdA4nAZ4N"
    },
    {
      "cell_type": "code",
      "source": [
        "# Define a class\n",
        "class Person:\n",
        "    pass # An empty code block\n",
        "\n",
        "# Create a Person() object named p\n",
        "p = Person()\n",
        "\n",
        "# Printing an object shows the memory address\n",
        "print(p)"
      ],
      "metadata": {
        "colab": {
          "base_uri": "https://localhost:8080/"
        },
        "id": "FqGTTO4p5eBi",
        "outputId": "48374279-9583-4888-924f-08eca0058f8c"
      },
      "id": "FqGTTO4p5eBi",
      "execution_count": null,
      "outputs": [
        {
          "output_type": "stream",
          "name": "stdout",
          "text": [
            "<__main__.Person object at 0x7f393e681f50>\n"
          ]
        }
      ]
    },
    {
      "cell_type": "markdown",
      "source": [
        "### How It Works\n",
        "\n",
        "We create a new class using the **class** statement and the name of the\n",
        "class. This is followed by an indented block of statements which form\n",
        "the body of the class. In this case, we have an empty block which is\n",
        "indicated using the **pass** statement. This is handy when sketching out the methods of a class.\n",
        "\n",
        "We create an object/instance of this class using the name of the class\n",
        "followed by a pair of parentheses.\n",
        "\n",
        "When you print an object directly, you get the memory address where your\n",
        "object is stored. The address will have a different value on your computer as Python will store the object wherever it finds space."
      ],
      "metadata": {
        "id": "TJV2Iv4m50yJ"
      },
      "id": "TJV2Iv4m50yJ"
    },
    {
      "cell_type": "markdown",
      "source": [
        "## Methods\n",
        "\n",
        "A method is a function that “belongs to” an object. **self** is the parameter that ties the method to an object.  Method names usually include **verbs** since they represent **actions**.\n",
        "\n",
        "We will now see an example."
      ],
      "metadata": {
        "id": "1loZoYK68iGV"
      },
      "id": "1loZoYK68iGV"
    },
    {
      "cell_type": "code",
      "source": [
        "class Person:\n",
        "    # Method with the self parameter\n",
        "    def say_hi(self):\n",
        "        print(\"Hello, how are you? \")\n",
        "\n",
        "Paul = Person()\n",
        "Paul.say_hi()"
      ],
      "metadata": {
        "colab": {
          "base_uri": "https://localhost:8080/"
        },
        "id": "ZmHrUkWY8lTy",
        "outputId": "cdad3ba1-99e6-49c5-80c7-95ebb29665c0"
      },
      "id": "ZmHrUkWY8lTy",
      "execution_count": null,
      "outputs": [
        {
          "output_type": "stream",
          "name": "stdout",
          "text": [
            "Hello, how are you? \n"
          ]
        }
      ]
    },
    {
      "cell_type": "markdown",
      "source": [
        "### How It Works\n",
        "\n",
        "Here we see the self in action. Notice that the **say_hi()** method\n",
        "takes no parameters but still has the **self** in the function\n",
        "definition. **self** refers to the object. The object owns the method.\n"
      ],
      "metadata": {
        "id": "smXBry_98kO1"
      },
      "id": "smXBry_98kO1"
    },
    {
      "cell_type": "markdown",
      "source": [
        "## Getters and Setters\n",
        "Getters and Setters allow the program to access the data attributes on the class. Getters and setters allow control over the values. You may validate the given value in the setter before setting the value.\n",
        "- **getter:** returns the value of the attribute.\n",
        "- **setter:** takes a parameter and assigns it to the attribute.\n"
      ],
      "metadata": {
        "id": "rr_gnCyF-iy8"
      },
      "id": "rr_gnCyF-iy8"
    },
    {
      "cell_type": "code",
      "source": [
        "class Person:\n",
        "\n",
        "    def get_hair_color(self):\n",
        "        return self._hair_color\n",
        "\n",
        "    def get_name(self):\n",
        "        return self._name\n",
        "\n",
        "    def set_hair_color(self, hair_color):\n",
        "        self._hair_color = hair_color\n",
        "    \n",
        "    def set_name(self, name):\n",
        "        self._name = name\n",
        "\n",
        "    def say_hi(self):\n",
        "        print(f\"Hello, how are you? My name is {self._name}.\")\n",
        "\n",
        "Paul = Person()\n",
        "Paul.set_hair_color(\"brown\")\n",
        "Paul.set_name(\"Paul\")\n",
        "Paul.say_hi()\n",
        "print(f\"My hair is {Paul.get_hair_color()}.\")"
      ],
      "metadata": {
        "colab": {
          "base_uri": "https://localhost:8080/"
        },
        "id": "BE6DZCGk-v93",
        "outputId": "dae47658-a6b4-4f54-9475-7a964be01cf2"
      },
      "id": "BE6DZCGk-v93",
      "execution_count": null,
      "outputs": [
        {
          "output_type": "stream",
          "name": "stdout",
          "text": [
            "Hello, how are you? My name is Paul.\n",
            "My hair is brown.\n"
          ]
        }
      ]
    },
    {
      "cell_type": "markdown",
      "source": [
        "# Tutorial 7.1 – Sammy the Shark\n",
        "\n",
        "The following program demonstrates classes, objects, and methods.\n",
        "\n",
        "An object is an instance of a class. We’ll make a **Shark** object\n",
        "called **sammy**.\n",
        "\n",
        "Create and name the program: **shark_1.py**\n",
        "\n",
        "<img src = https://raw.githubusercontent.com/itinstructor/PythonPrimer/main/Notebooks/chapter_07_images/image5.png alt=\"Code\" width = \"400\" />\n"
      ],
      "metadata": {
        "id": "rIzwBlsxeEwQ"
      },
      "id": "rIzwBlsxeEwQ"
    },
    {
      "cell_type": "markdown",
      "source": [
        "## How It Works\n",
        "The **Shark** object **sammy** is using four methods: \n",
        "- **get_name()** This returns the self._name attribute of the object from a passed in parameter.\n",
        "- **set_name()** This sets the self._name attribute of the object.\n",
        "- **swim()** and **be_awesome()** are methods which display text.\n",
        "\n",
        "We called these methods using the dot operator (.), which is used to reference an attribute or method of the object. In this case, the attribute is a method and it’s called with parentheses.\n",
        "\n",
        "Because the keyword **self** was a parameter of the methods as defined in the **Shark** class, the **sammy** object gets passed to the methods. The **self** parameter ensures that the methods have a way of referring to object attributes.\n",
        "\n",
        "When we call the methods, however, nothing is passed inside the parentheses, the object **sammy** is being automatically passed with the dot operator.\n",
        "\n",
        "Example run:\n",
        "\n",
        "<img src = https://raw.githubusercontent.com/itinstructor/PythonPrimer/main/Notebooks/chapter_07_images/image6.png alt=\"Code\" />\n",
        " \n"
      ],
      "metadata": {
        "id": "Ohdmhcvrf7IN"
      },
      "id": "Ohdmhcvrf7IN"
    },
    {
      "cell_type": "markdown",
      "source": [
        "# The \\_\\_init\\_\\_ Method\n",
        "The **\\_\\_init\\_\\_** method is used to define the initial state of a  object.\n",
        "\n",
        "This special method runs as soon as an object of a class is instantiated (i.e. created, constructed). This is called a constructor in other languages such as Java and C++.\n",
        "\n",
        "This method is useful to do any initialization (i.e. passing initial values to your object) you want to do with your object. Notice the double underscores at the beginning and at the end of the name. This indicates this is a dunder method. (double underscore)\n"
      ],
      "metadata": {
        "id": "5NFCYymtgkjn"
      },
      "id": "5NFCYymtgkjn"
    },
    {
      "cell_type": "code",
      "source": [
        "# Filename: person_class.py\n",
        "# Demonstration class\n",
        "\n",
        "class Person:\n",
        "    # init runs automatically when the object is created\n",
        "    # This init method takes a single parameter: name\n",
        "    def __init__(self, name):\n",
        "        self._name = name\n",
        "    # Define a method\n",
        "    def say_hi(self):\n",
        "        print(f\"Hello, my name is {self._name}\")\n",
        "\n",
        "# Program starts here\n",
        "barney = Person(\"Barney\")\n",
        "barney.say_hi()\n"
      ],
      "metadata": {
        "colab": {
          "base_uri": "https://localhost:8080/"
        },
        "id": "4s70NCylhlB5",
        "outputId": "be4e146e-3331-4b66-eb1c-d221d2ebb851"
      },
      "id": "4s70NCylhlB5",
      "execution_count": null,
      "outputs": [
        {
          "output_type": "stream",
          "name": "stdout",
          "text": [
            "Hello, my name is Barney\n"
          ]
        }
      ]
    },
    {
      "cell_type": "markdown",
      "source": [
        "## How It Works\n",
        "We define the **\\_\\_init\\_\\_** method as taking a parameter name (along with the usual self). We create a new field also called **name**.\n",
        "\n",
        "When creating new instance barney, of the class Person, we do so by using the class name, followed by the arguments in the parentheses:\n",
        "\n",
        "**barney = Person(\"Barney\")**\n",
        "\n",
        "We do not explicitly call the **\\_\\_init\\_\\_** method. It is called when the object is initialized.\n"
      ],
      "metadata": {
        "id": "98APwA_vh16U"
      },
      "id": "98APwA_vh16U"
    },
    {
      "cell_type": "markdown",
      "source": [
        "# Tutorial 7.2 – Constructing Sharks\n",
        "\n",
        "The **\\_\\_init\\_\\_** method is used to initialize data. It is run as soon as an object of a class is instantiated.\n",
        "\n",
        "Classes are useful because they allow us to create many similar objects based on the same blueprint. This program creates two objects from the same class.\n",
        "\n",
        "Create the following program and name it: **shark_2.py**\n",
        "\n",
        "<img src = https://raw.githubusercontent.com/itinstructor/PythonPrimer/main/Notebooks/chapter_07_images/image7.png alt=\"shark_2.py Code\" />\n"
      ],
      "metadata": {
        "id": "gm7JQ-Se7vV_"
      },
      "id": "gm7JQ-Se7vV_"
    },
    {
      "cell_type": "markdown",
      "source": [
        "Example run:\n",
        "\n",
        "<img src = https://raw.githubusercontent.com/itinstructor/PythonPrimer/main/Notebooks/chapter_07_images/image9.png alt=\"shark_2.py code results\" />"
      ],
      "metadata": {
        "id": "N974UjCE883I"
      },
      "id": "N974UjCE883I"
    },
    {
      "cell_type": "markdown",
      "source": [
        "## How It Works\n",
        "\n",
        "Notice the name being passed to the object. We defined the **\\_\\_init\\_\\_** method with the parameter name (along with the self keyword) and defined a variable within the method, name. \n",
        "\n",
        "We also defined a new class variable, **self._age**. To make use of age, we created a method in the class that calls for it. Constructor methods allow us to initialize certain attributes of an object.\n",
        "The _ in front of the variable name _age hides the variable or makes it private to the class. This is called data hiding. We only allow access to object variables through the methods.\n",
        "\n",
        "Because the constructor method is automatically initialized, we do not need to explicitly call it, only pass the arguments in the parentheses following the class name when we create a new instance of the class.\n",
        "\n",
        "We created a second Shark object called **stevie** and passed the name \"Stevie\" to it. Classes make it possible to create more than one object following the same pattern without creating each one from scratch."
      ],
      "metadata": {
        "id": "ZhyAV2rD9fz7"
      },
      "id": "ZhyAV2rD9fz7"
    },
    {
      "cell_type": "markdown",
      "source": [
        "# @property Decorator\n",
        "\n",
        "We used the Person class previously to demonstrate getters and setters.\n",
        "\n",
        "The Pythonic way to use getters and setters is with the **@property** decorator. This consolidates the getter and setter object calls. Instead of calling separate methods, we use the single property name to get or set the data attribute. Python determines what to do based on whether we are accessing or changing the property.\n",
        "\n",
        "In the background, the data attributes are still considered private. Whenever we use **object.property**, Python internally calls the appropriate getter or setter."
      ],
      "metadata": {
        "id": "-gwo94lfq0qF"
      },
      "id": "-gwo94lfq0qF"
    },
    {
      "cell_type": "code",
      "source": [
        "class Person:\n",
        "    def __init__(self, name, hair_color):\n",
        "        self._name = name\n",
        "        self._hair_color = hair_color\n",
        "    \n",
        "    @property\n",
        "    def name(self):\n",
        "        return self._name\n",
        "    @name.setter   \n",
        "    def name(self, name):\n",
        "        self._name = name\n",
        "    \n",
        "    @property\n",
        "    def hair_color(self):\n",
        "        return self._hair_color\n",
        "    @hair_color.setter\n",
        "    def hair_color(self, hair_color):\n",
        "        self._hair_color = hair_color\n",
        "\n",
        "    def say_hi(self):\n",
        "        print(f\"Hello, how are you? \\nMy name is {self._name}.\")\n",
        "\n",
        "Paul = Person(\"Bill\", \"red\")\n",
        "# Assign value to property, setter\n",
        "Paul.hair_color = \"brown\"\n",
        "Paul.name = \"Paul\"\n",
        "Paul.say_hi()\n",
        "# Access value in property, getter\n",
        "print(f\"My hair is {Paul.hair_color}.\")"
      ],
      "metadata": {
        "colab": {
          "base_uri": "https://localhost:8080/"
        },
        "id": "EXoMPpvfq7Np",
        "outputId": "54c75e82-566d-4ee7-a623-a2ab15d242e3"
      },
      "id": "EXoMPpvfq7Np",
      "execution_count": null,
      "outputs": [
        {
          "output_type": "stream",
          "name": "stdout",
          "text": [
            "Hello, how are you? \n",
            "My name is Paul.\n",
            "My hair is brown.\n"
          ]
        }
      ]
    },
    {
      "cell_type": "markdown",
      "source": [
        "# Tutorial 7.3 - Movie Class\n",
        "\n",
        "Create a Python program named: **movie_class.py**\n",
        "\n",
        "<img src = https://raw.githubusercontent.com/itinstructor/PythonPrimer/main/Notebooks/chapter_07_images/image10.png alt=\"movie_class.py Code\" />"
      ],
      "metadata": {
        "id": "ksYbGLTSugLj"
      },
      "id": "ksYbGLTSugLj"
    },
    {
      "cell_type": "markdown",
      "source": [
        "Example run:\n",
        "\n",
        "<img src = https://raw.githubusercontent.com/itinstructor/PythonPrimer/main/Notebooks/chapter_07_images/image11.png alt=\"example run of movie class\" />"
      ],
      "metadata": {
        "id": "iQhBtAs5xlFi"
      },
      "id": "iQhBtAs5xlFi"
    },
    {
      "cell_type": "markdown",
      "source": [
        "# Classes in Separate Files\n",
        "\n",
        "Classes and programs can be in separate files. A program can have several class files. This is very common in larger programs. "
      ],
      "metadata": {
        "id": "pFVKe8eQxwmE"
      },
      "id": "pFVKe8eQxwmE"
    },
    {
      "cell_type": "markdown",
      "source": [
        "# Tutorial 7.4 - Coin Flip\n",
        "\n",
        "Coin Flip has two classes. The Coin class holds all the attributes and methods to flip a coin. The coin_flip program creates three coin objects and flips them.\n",
        "\n",
        "Create a Python program named **coin.py**\n"
      ],
      "metadata": {
        "id": "PJFda79UyBK9"
      },
      "id": "PJFda79UyBK9"
    },
    {
      "cell_type": "markdown",
      "source": [
        "# Designing an Object-Oriented Program\n",
        "\n",
        "The first step is to identify the classes the program will need.\n",
        "\n",
        "1.  Identify the real-world objects, the nouns.\n",
        "\n",
        "- Customer  \n",
        "- Address  \n",
        "- Car  \n",
        "- labor charges  \n",
        "- Toyota\n",
        "\n",
        "Some nouns contain other nouns. A Car can also be a Toyota. A customer would have an address. We need a Car and a Customer class.\n",
        "\n",
        "2.  Determine what describes or makes up the class, the data attributes.\n",
        "\n",
        "Customer: Name, Address, Phone\n",
        "\n",
        "3.  Determine the actions, the verbs, the methods.\n",
        "\n",
        "- move_forward()  \n",
        "- make_purchase()  \n",
        "- create_invoice()\n",
        "\n",
        "Customer: set name, set address, get address\n",
        "\n",
        "A class is responsible for one thing only."
      ],
      "metadata": {
        "id": "Um8Ss_mzyk20"
      },
      "id": "Um8Ss_mzyk20"
    },
    {
      "cell_type": "markdown",
      "source": [
        "# Pickle\n",
        "\n",
        "Python provides a standard module called **pickle** which you can use to store any plain Python object in a file and then get it back later. This is called storing the object persistently. **pickling** is preserving data for later use, just like pickling beets preserves them for later yummy eating.."
      ],
      "metadata": {
        "id": "WwbDP4mtzsOY"
      },
      "id": "WwbDP4mtzsOY"
    },
    {
      "cell_type": "code",
      "source": [
        "# Filename: shoplist_pickle.py\n",
        "\n",
        "# Import the pickle module\n",
        "import pickle\n",
        "\n",
        "# The name of the file where we will store the serialized object\n",
        "shoplist_file = \"shoplist.pkl\"\n",
        "\n",
        "# List of things to buy\n",
        "shoplist = [\"apple\", \"mango\", \"carrot\"]\n",
        "print(shoplist)\n",
        "\n",
        "# Write to the file\n",
        "f = open(shoplist_file, \"wb\")\n",
        "\n",
        "# Dump the object to a file\n",
        "pickle.dump(shoplist, f)\n",
        "print(f\"shoplist written to {shoplist_file}\")\n",
        "f.close()\n",
        "\n",
        "# Destroy the shoplist variable\n",
        "del shoplist\n",
        "print(f\"shoplist destroyed in memory.\")\n",
        "\n",
        "# Read back from the storage\n",
        "f = open(shoplist_file, \"rb\")\n",
        "print(f\"shoplist read back from {shoplist_file}\")\n",
        "\n",
        "# Load the object from the file\n",
        "storedlist = pickle.load(f)\n",
        "print(storedlist)\n",
        "\n",
        "# Close the file\n",
        "f.close()"
      ],
      "metadata": {
        "colab": {
          "base_uri": "https://localhost:8080/"
        },
        "id": "RRjMkLt5zuTE",
        "outputId": "1305c164-7ddc-4342-9593-1abd7d7ea10e"
      },
      "id": "RRjMkLt5zuTE",
      "execution_count": null,
      "outputs": [
        {
          "output_type": "stream",
          "name": "stdout",
          "text": [
            "['apple', 'mango', 'carrot']\n",
            "shoplist written to shoplist.pkl\n",
            "shoplist destroyed in memory.\n",
            "shoplist read back from shoplist.pkl\n",
            "['apple', 'mango', 'carrot']\n"
          ]
        }
      ]
    },
    {
      "cell_type": "markdown",
      "source": [
        "## How It Works\n",
        "\n",
        "To store an object in a file, **open** the file in write binary mode and\n",
        "then call the **dump** function of the **pickle** module. This process\n",
        "is called **pickling**.\n",
        "\n",
        "We retrieve the object using the **load** function of the **pickle**\n",
        "module which returns the object. This process is called **unpickling**."
      ],
      "metadata": {
        "id": "yRrfwr1l081b"
      },
      "id": "yRrfwr1l081b"
    },
    {
      "cell_type": "markdown",
      "metadata": {
        "id": "0MpP4pKT2OIZ"
      },
      "source": [
        "# Inheritance\n",
        "\n",
        "Another powerful feature of object-oriented programming is the ability\n",
        "to create a new class by extending an existing class. When extending a\n",
        "class, we call the original class the parent class and the new class the\n",
        "child class.\n",
        "\n",
        "For this example, we move our **PartyAnimal** class into its own file.\n",
        "Then, we can ‘import’ the **PartyAnimal** class in a new file and extend\n",
        "it, as follows:\n",
        "\n",
        "<table>\n",
        "<tbody>\n",
        "<tr class=\"odd\">\n",
        "<td><p># Import the PartyAnimal class from party.py</p>\n",
        "<p>from party import PartyAnimal</p>\n",
        "<p># Defining and extending the</p>\n",
        "<p># CricketFan class based on PartyAnimal</p>\n",
        "<p># All PartyAnimal methods and data is available</p>\n",
        "<p>class CricketFan(PartyAnimal):</p>\n",
        "<p>_points = 0</p>\n",
        "<p># CricketFan method calling local and inherited party methods</p>\n",
        "<p>def six(self):</p>\n",
        "<p>self.__points = self.__points + 6</p>\n",
        "<p># Inherited method from parent class</p>\n",
        "<p>self.party()</p>\n",
        "<p>print(self.__name,\"points\",self.__points)</p>\n",
        "<p>sally = PartyAnimal(\"Sally\")</p>\n",
        "<p>sally.party()</p>\n",
        "<p>jim = CricketFan(\"Jim\")</p>\n",
        "<p>jim.party()</p>\n",
        "<p>jim.six()</p>\n",
        "<p># Display the attributes of the j object</p>\n",
        "<p># Some we defined, some are automatically defined when an object is created</p>\n",
        "<p>print(dir(j))</p></td>\n",
        "</tr>\n",
        "</tbody>\n",
        "</table>\n",
        "\n",
        "When we define the **CricketFan** class, we indicate that we are\n",
        "extending the **PartyAnimal** class. This means that all the variables\n",
        "**(x)** and methods **(party)** from the **PartyAnimal** class are\n",
        "inherited by the **CricketFan** class. For example, within the **six**\n",
        "method in the **CricketFan** class, we call the party method from the\n",
        "**PartyAnimal** class.\n",
        "\n",
        "As the program executes, we create **sally** and **jim** as independent\n",
        "instances of **PartyAnimal** and **CricketFan**. The **jim** object has\n",
        "additional capabilities beyond the **sally** object.\n",
        "\n",
        "<img src=\"attachment:vertopal_4982b11f08424cdaa2642c521aec4cd2/media/image16.png\" style=\"width:6.40625in;height:1.74861in\" />\n",
        "\n",
        "In the **dir** output for the **jim** object (instance of the\n",
        "**CricketFan** class), we see that it has the attributes and methods of\n",
        "the parent class, as well as the attributes and methods that were added\n",
        "when the class was extended to create the **CricketFan** class.\n",
        "\n",
        "# Tutorial 7.5 – Parent and Child Fish (and Sharks)\n",
        "\n",
        "Create the following Python program named: **fish.py**\n",
        "\n",
        "<img src=\"attachment:vertopal_4982b11f08424cdaa2642c521aec4cd2/media/image17.png\" style=\"width:5.82in;height:6.9in\" />\n",
        "\n",
        "<img src=\"attachment:vertopal_4982b11f08424cdaa2642c521aec4cd2/media/image18.png\" style=\"width:5.5in;height:2.81in\" />\n",
        "\n",
        "Example run:\n",
        "\n",
        "<img src=\"attachment:vertopal_4982b11f08424cdaa2642c521aec4cd2/media/image19.png\" style=\"width:4.28in;height:1.33in\" />\n",
        "\n",
        "### Explanation\n",
        "\n",
        "With child classes, we can choose to add more methods, override existing\n",
        "parent methods, or simply accept the default parent methods with the\n",
        "pass keyword.\n",
        "\n",
        "The first line of a child class looks a little different than non-child\n",
        "classes as you must pass the parent class into the child class as a\n",
        "parameter:\n",
        "\n",
        "The Clownfish class inherits all the attributes and methods from its\n",
        "parent, Fish. It has a special method will permit it to live with sea\n",
        "anemone.\n",
        "\n",
        "The Shark method **swim_backwards()** prints a different string than the\n",
        "one in the Fish parent class because sharks are not able to swim\n",
        "backwards in the way that bony fish can.\n",
        "\n",
        "# Tutorial 7.6 - Convert Functional to OOP\n",
        "\n",
        "In Chapter 5 we did a tutorial called\n",
        "**purchase_price_with_functions.py** This tutorial shows how to turn\n",
        "this into an OOP. Both programs give the same results. The OOP is much\n",
        "more expandable and simpler to use.\n",
        "\n",
        "This is the original tutorial.\n",
        "\n",
        "<img src=\"attachment:vertopal_4982b11f08424cdaa2642c521aec4cd2/media/image20.png\" style=\"width:5.14in;height:6.6in\" />\n",
        "\n",
        "This is the same program written in OOP.\n",
        "\n",
        "<img src=\"attachment:vertopal_4982b11f08424cdaa2642c521aec4cd2/media/image21.png\" style=\"width:5.85in;height:7.19in\" />\n",
        "\n",
        "Example run:\n",
        "\n",
        "<img src=\"attachment:vertopal_4982b11f08424cdaa2642c521aec4cd2/media/image22.png\" style=\"width:2.19in;height:1.06in\" />\n",
        "\n",
        "\n",
        "\n",
        "## Assignment Submission\n",
        "\n",
        "Attach all program files to the assignment in BlackBoard."
      ],
      "id": "0MpP4pKT2OIZ"
    },
    {
      "cell_type": "markdown",
      "source": [
        "## Glossary\n",
        "\n",
        "**attribute** A variable that is part of a class.\n",
        "\n",
        "**class** A template that can be used to construct an object. Defines\n",
        "the attributes and methods that will make up the object.\n",
        "\n",
        "**child** class A new class created when a parent class is extended. The\n",
        "child class inherits all of the attributes and methods of the parent\n",
        "class.\n",
        "\n",
        "**constructor** An optional specially named method (\\_\\_init\\_\\_) that\n",
        "is called at the moment when a class is being used to construct an\n",
        "object. Usually this is used to set up initial values for the object.\n",
        "\n",
        "**destructor** An optional specially named method (\\_\\_del\\_\\_) that is\n",
        "called at the moment just before an object is destroyed. Destructors are\n",
        "rarely used.\n",
        "\n",
        "**inheritance** When we create a new class (child) by extending an\n",
        "existing class (parent). The child class has all the attributes and\n",
        "methods of the parent class plus additional attributes and methods\n",
        "defined by the child class.\n",
        "\n",
        "**method** A function that is contained within a class and the objects\n",
        "that are constructed from the class. Some object-oriented patterns use\n",
        "‘message’ instead of ‘method’ to describe this concept.\n",
        "\n",
        "**object** A constructed instance of a class. An object contains all the\n",
        "attributes and methods that were defined by the class. Some\n",
        "object-oriented documentation uses the term ‘instance’ interchangeably\n",
        "with ‘object’.\n",
        "\n",
        "**parent class** The class which is being extended to create a new child\n",
        "class. The parent class contributes all its methods and attributes to\n",
        "the new child class."
      ],
      "metadata": {
        "id": "sGf5o1qd2cdf"
      },
      "id": "sGf5o1qd2cdf"
    }
  ],
  "nbformat": 4,
  "nbformat_minor": 5,
  "metadata": {
    "colab": {
      "name": "Chapter_07_OOP.ipynb",
      "provenance": [],
      "toc_visible": true,
      "collapsed_sections": [
        "zRBDLoMk2hmc",
        "d_OOJzSj3L3A",
        "ivF-8okV3Ima"
      ],
      "include_colab_link": true
    },
    "language_info": {
      "name": "python"
    },
    "kernelspec": {
      "name": "python3",
      "display_name": "Python 3"
    }
  }
}